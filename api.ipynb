{
 "cells": [
  {
   "cell_type": "markdown",
   "metadata": {},
   "source": [
    "### Preliminaries"
   ]
  },
  {
   "cell_type": "code",
   "execution_count": 1,
   "metadata": {},
   "outputs": [],
   "source": [
    "import requests\n",
    "import json\n",
    "# Define the file path to the userData.json file\n",
    "user_data_file = \"modal-login/temp-data/userData.json\"\n",
    "\n",
    "# Load the orgId from the JSON file\n",
    "with open(user_data_file, \"r\") as file:\n",
    "    user_data = json.load(file)"
   ]
  },
  {
   "cell_type": "markdown",
   "metadata": {},
   "source": [
    "### Manual API usage"
   ]
  },
  {
   "cell_type": "markdown",
   "metadata": {},
   "source": [
    "Register Peer"
   ]
  },
  {
   "cell_type": "code",
   "execution_count": 2,
   "metadata": {},
   "outputs": [
    {
     "name": "stdout",
     "output_type": "stream",
     "text": [
      "Success: {'hash': '0x66139eab2ae6b0c8d2edfda4938750f37f669abe04b4f90b6fd1e330beae7320'}\n"
     ]
    }
   ],
   "source": [
    "url = \"http://localhost:3000/api/register-peer\"\n",
    "\n",
    "peer_id = \"harry-endgame-manual\"\n",
    "\n",
    "# Define the payload\n",
    "payload = {\n",
    "    \"orgId\": list(user_data.keys())[0],  # Replace with your organization ID\n",
    "    \"peerId\": peer_id  # Replace with your peer ID\n",
    "}\n",
    "\n",
    "# Send the POST request\n",
    "try:\n",
    "    response = requests.post(url, json=payload)\n",
    "\n",
    "    # Check the response status\n",
    "    if response.status_code == 200:\n",
    "        print(\"Success:\", response.json())\n",
    "    else:\n",
    "        print(\"Error:\", response.status_code, response.json())\n",
    "except requests.exceptions.RequestException as e:\n",
    "    print(\"Request failed:\", e)"
   ]
  },
  {
   "cell_type": "markdown",
   "metadata": {},
   "source": [
    "Proof\n",
    "\n",
    "https://gensyn-testnet.explorer.alchemy.com/tx/0xc4eb5d0f086f780ae799ea482580412635b3540d27d97ab2813cd02b8bfc72d4?tab=logs"
   ]
  },
  {
   "cell_type": "markdown",
   "metadata": {},
   "source": [
    "Submit winner"
   ]
  },
  {
   "cell_type": "code",
   "execution_count": 3,
   "metadata": {},
   "outputs": [
    {
     "name": "stdout",
     "output_type": "stream",
     "text": [
      "{'orgId': 'e8b4177a-3f73-4aeb-bb31-305009eaafc9', 'roundNumber': 0, 'winners': ['hadrian']}\n"
     ]
    }
   ],
   "source": [
    "url = \"http://localhost:3000/api/submit-winner\"\n",
    "\n",
    "peer_id = \"hadrian\"\n",
    "\n",
    "# Define the payload\n",
    "payload = {\n",
    "    \"orgId\": list(user_data.keys())[0],  # Replace with your organization ID\n",
    "    \"roundNumber\": 0, \n",
    "    \"winners\": [peer_id]\n",
    "}\n",
    "\n",
    "print(payload)"
   ]
  },
  {
   "cell_type": "code",
   "execution_count": 4,
   "metadata": {},
   "outputs": [
    {
     "name": "stdout",
     "output_type": "stream",
     "text": [
      "Success: {'hash': '0x40c7dbc62aeff504bcb979f9c942409b19259b3eb3ad71e02badaadb93099c0c'}\n"
     ]
    }
   ],
   "source": [
    "# Send the POST request\n",
    "try:\n",
    "    response = requests.post(url, json=payload)\n",
    "\n",
    "    # Check the response status\n",
    "    if response.status_code == 200:\n",
    "        print(\"Success:\", response.json())\n",
    "    else:\n",
    "        print(\"Error:\", response.status_code, response.json())\n",
    "except requests.exceptions.RequestException as e:\n",
    "    print(\"Request failed:\", e)"
   ]
  },
  {
   "cell_type": "markdown",
   "metadata": {},
   "source": [
    "Proof\n",
    "\n",
    "https://gensyn-testnet.explorer.alchemy.com/tx/0x5bc90e221c22de3f4cff1352215b5265bce9ec586fde06049de5a9bf1299908c?tab=logs"
   ]
  },
  {
   "cell_type": "markdown",
   "metadata": {},
   "source": [
    "----"
   ]
  },
  {
   "cell_type": "markdown",
   "metadata": {},
   "source": [
    "### chain_utils usage"
   ]
  },
  {
   "cell_type": "code",
   "execution_count": 5,
   "metadata": {},
   "outputs": [],
   "source": [
    "from hivemind_exp.chain_utils import ModalSwarmCoordinator, setup_web3\n",
    "\n",
    "# Define the API endpoint\n",
    "url = \"http://localhost:3000/api/register-peer\"\n",
    "\n",
    "\n",
    "# Define the file path to the userData.json file\n",
    "user_data_file = \"modal-login/temp-data/userData.json\"\n",
    "\n",
    "# Load the orgId from the JSON file\n",
    "with open(user_data_file, \"r\") as file:\n",
    "    user_data = json.load(file)\n",
    "    \n",
    "# Step 1: Set up the web3 instance\n",
    "web3 = setup_web3()\n",
    "\n",
    "# Step 2: Define the organization ID (org_id)\n",
    "org_id = list(user_data.keys())[0]  # Example org_id\n"
   ]
  },
  {
   "cell_type": "code",
   "execution_count": 6,
   "metadata": {},
   "outputs": [
    {
     "name": "stdout",
     "output_type": "stream",
     "text": [
      "ModalSwarmCoordinator created for org_id: c099d752-cfad-4b84-b915-10d4a4059c85\n",
      "(0, 0)\n"
     ]
    }
   ],
   "source": [
    "\n",
    "# Step 3: Instantiate ModalSwarmCoordinator\n",
    "modal_coordinator = ModalSwarmCoordinator(org_id=org_id, web3=web3)\n",
    "\n",
    "# Step 4: Use the instance\n",
    "print(f\"ModalSwarmCoordinator created for org_id: {modal_coordinator.org_id}\")\n",
    "print(modal_coordinator.get_round_and_stage())"
   ]
  },
  {
   "cell_type": "markdown",
   "metadata": {},
   "source": [
    "register peer"
   ]
  },
  {
   "cell_type": "code",
   "execution_count": 7,
   "metadata": {},
   "outputs": [],
   "source": [
    "peer_id = \"harry-endgame-utils\""
   ]
  },
  {
   "cell_type": "code",
   "execution_count": 8,
   "metadata": {},
   "outputs": [
    {
     "name": "stdout",
     "output_type": "stream",
     "text": [
      "harry-endgame-utils\n",
      "{'orgId': 'c099d752-cfad-4b84-b915-10d4a4059c85', 'peerId': 'harry-endgame-utils'}\n"
     ]
    }
   ],
   "source": [
    "modal_coordinator.register_peer(peer_id)"
   ]
  },
  {
   "cell_type": "markdown",
   "metadata": {
    "vscode": {
     "languageId": "markdown"
    }
   },
   "source": [
    "Proof\n",
    "\n",
    "https://gensyn-testnet.explorer.alchemy.com/tx/0x49614edd723c9a9ae11249511532fc2fb58a13fa0ca867e505191734692bb57f?tab=logs"
   ]
  },
  {
   "cell_type": "markdown",
   "metadata": {},
   "source": [
    "Submit winner"
   ]
  },
  {
   "cell_type": "code",
   "execution_count": 9,
   "metadata": {},
   "outputs": [
    {
     "name": "stdout",
     "output_type": "stream",
     "text": [
      "{'orgId': 'c099d752-cfad-4b84-b915-10d4a4059c85', 'roundNumber': 0, 'winners': ['harry_and_daniel']}\n"
     ]
    }
   ],
   "source": [
    "modal_coordinator.submit_winners(0, [\"harry_and_daniel\"])"
   ]
  },
  {
   "cell_type": "markdown",
   "metadata": {},
   "source": [
    "Proof\n",
    "\n",
    "https://gensyn-testnet.explorer.alchemy.com/tx/0xe0d01760abe456817e285a9bfb9517927080bdae61ecdbdd32a1b4d9e9fcb606?tab=logs"
   ]
  },
  {
   "cell_type": "markdown",
   "metadata": {},
   "source": [
    "Clean up"
   ]
  },
  {
   "cell_type": "code",
   "execution_count": null,
   "metadata": {},
   "outputs": [],
   "source": [
    "# turn off next server first!\n",
    "! rm -r modal-login/temp-data/*.json"
   ]
  }
 ],
 "metadata": {
  "kernelspec": {
   "display_name": ".venv",
   "language": "python",
   "name": "python3"
  },
  "language_info": {
   "codemirror_mode": {
    "name": "ipython",
    "version": 3
   },
   "file_extension": ".py",
   "mimetype": "text/x-python",
   "name": "python",
   "nbconvert_exporter": "python",
   "pygments_lexer": "ipython3",
   "version": "3.13.2"
  }
 },
 "nbformat": 4,
 "nbformat_minor": 2
}
