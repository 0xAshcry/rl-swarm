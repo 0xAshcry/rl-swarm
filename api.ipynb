{
 "cells": [
  {
   "cell_type": "markdown",
   "metadata": {},
   "source": [
    "### Preliminaries"
   ]
  },
  {
   "cell_type": "code",
   "execution_count": 12,
   "metadata": {},
   "outputs": [],
   "source": [
    "import requests\n",
    "import json\n",
    "# Define the file path to the userData.json file\n",
    "user_data_file = \"modal-login/temp-data/userData.json\"\n",
    "\n",
    "# Load the orgId from the JSON file\n",
    "with open(user_data_file, \"r\") as file:\n",
    "    user_data = json.load(file)"
   ]
  },
  {
   "cell_type": "markdown",
   "metadata": {},
   "source": [
    "### Manual API usage"
   ]
  },
  {
   "cell_type": "markdown",
   "metadata": {},
   "source": [
    "Register Peer"
   ]
  },
  {
   "cell_type": "code",
   "execution_count": 13,
   "metadata": {},
   "outputs": [
    {
     "name": "stdout",
     "output_type": "stream",
     "text": [
      "Success: {'hash': '0x6ca368f9071b94168b92a3b6c716294467608c3c5b60e4c77ad046075c945a90'}\n"
     ]
    }
   ],
   "source": [
    "url = \"http://localhost:3000/api/register-peer\"\n",
    "\n",
    "peer_id = \"harry-endgame-manual-long\"\n",
    "\n",
    "# Define the payload\n",
    "payload = {\n",
    "    \"orgId\": list(user_data.keys())[0],  # Replace with your organization ID\n",
    "    \"peerId\": peer_id  # Replace with your peer ID\n",
    "}\n",
    "\n",
    "# Send the POST request\n",
    "try:\n",
    "    response = requests.post(url, json=payload)\n",
    "\n",
    "    # Check the response status\n",
    "    if response.status_code == 200:\n",
    "        print(\"Success:\", response.json())\n",
    "    else:\n",
    "        print(\"Error:\", response.status_code, response.json())\n",
    "except requests.exceptions.RequestException as e:\n",
    "    print(\"Request failed:\", e)"
   ]
  },
  {
   "cell_type": "markdown",
   "metadata": {},
   "source": [
    "Proof\n",
    "\n",
    "v1\n",
    "\n",
    "https://gensyn-testnet.explorer.alchemy.com/tx/0xc4eb5d0f086f780ae799ea482580412635b3540d27d97ab2813cd02b8bfc72d4?tab=logs\n",
    "\n",
    "v2\n",
    "\n",
    "https://gensyn-testnet.explorer.alchemy.com/tx/0x655571db8bdf6fec53564fbbee93cf4d2598816488d40c0a08a2cd958b69c872?tab=logs\n"
   ]
  },
  {
   "cell_type": "markdown",
   "metadata": {},
   "source": [
    "Submit winner"
   ]
  },
  {
   "cell_type": "code",
   "execution_count": 14,
   "metadata": {},
   "outputs": [
    {
     "name": "stdout",
     "output_type": "stream",
     "text": [
      "{'orgId': 'a3e5f8e7-dda4-48e3-baac-3f557725d3ce', 'roundNumber': 0, 'winners': ['Qmb8wVVVMTRmG4U1tCdaCCqietuWwpGRSbL53PA5azBViP']}\n"
     ]
    }
   ],
   "source": [
    "url = \"http://localhost:3000/api/submit-winner\"\n",
    "\n",
    "peer_id = \"Qmb8wVVVMTRmG4U1tCdaCCqietuWwpGRSbL53PA5azBViP\"\n",
    "\n",
    "# Define the payload\n",
    "payload = {\n",
    "    \"orgId\": list(user_data.keys())[0],  # Replace with your organization ID\n",
    "    \"roundNumber\": 0, \n",
    "    \"winners\": [peer_id]\n",
    "}\n",
    "\n",
    "print(payload)"
   ]
  },
  {
   "cell_type": "code",
   "execution_count": 15,
   "metadata": {},
   "outputs": [
    {
     "name": "stdout",
     "output_type": "stream",
     "text": [
      "Success: {'hash': '0x05150e7a60b3be4dceea183780665e1357b91a80a3519830309ffe1837372256'}\n"
     ]
    }
   ],
   "source": [
    "# Send the POST request\n",
    "try:\n",
    "    response = requests.post(url, json=payload)\n",
    "\n",
    "    # Check the response status\n",
    "    if response.status_code == 200:\n",
    "        print(\"Success:\", response.json())\n",
    "    else:\n",
    "        print(\"Error:\", response.status_code, response.json())\n",
    "except requests.exceptions.RequestException as e:\n",
    "    print(\"Request failed:\", e)"
   ]
  },
  {
   "cell_type": "markdown",
   "metadata": {},
   "source": [
    "Proof\n",
    "\n",
    "v1\n",
    "\n",
    "https://gensyn-testnet.explorer.alchemy.com/tx/0x5bc90e221c22de3f4cff1352215b5265bce9ec586fde06049de5a9bf1299908c?tab=logs\n",
    "\n",
    "v2\n",
    "\n",
    "https://gensyn-testnet.explorer.alchemy.com/tx/0x6836bbd5b7294071e0513d8f501ed323964acfc72cdfc0c8458d46a2bb05fdcd?tab=logs"
   ]
  },
  {
   "cell_type": "markdown",
   "metadata": {},
   "source": [
    "----"
   ]
  },
  {
   "cell_type": "markdown",
   "metadata": {},
   "source": [
    "### chain_utils usage"
   ]
  },
  {
   "cell_type": "code",
   "execution_count": 16,
   "metadata": {},
   "outputs": [],
   "source": [
    "from hivemind_exp.chain_utils import ModalSwarmCoordinator, setup_web3\n",
    "\n",
    "# Define the API endpoint\n",
    "url = \"http://localhost:3000/api/register-peer\"\n",
    "\n",
    "\n",
    "# Define the file path to the userData.json file\n",
    "user_data_file = \"modal-login/temp-data/userData.json\"\n",
    "\n",
    "# Load the orgId from the JSON file\n",
    "with open(user_data_file, \"r\") as file:\n",
    "    user_data = json.load(file)\n",
    "    \n",
    "# Step 1: Set up the web3 instance\n",
    "web3 = setup_web3()\n",
    "\n",
    "# Step 2: Define the organization ID (org_id)\n",
    "org_id = list(user_data.keys())[0]  # Example org_id\n"
   ]
  },
  {
   "cell_type": "code",
   "execution_count": 18,
   "metadata": {},
   "outputs": [
    {
     "name": "stdout",
     "output_type": "stream",
     "text": [
      "ModalSwarmCoordinator created for org_id: 8a57aa07-9cac-4166-a109-a5706866435e\n",
      "(0, 0)\n"
     ]
    }
   ],
   "source": [
    "\n",
    "# Step 3: Instantiate ModalSwarmCoordinator\n",
    "modal_coordinator = ModalSwarmCoordinator(org_id=org_id, web3=web3)\n",
    "\n",
    "# Step 4: Use the instance\n",
    "print(f\"ModalSwarmCoordinator created for org_id: {modal_coordinator.org_id}\")\n",
    "print(modal_coordinator.get_round_and_stage())"
   ]
  },
  {
   "cell_type": "markdown",
   "metadata": {},
   "source": [
    "register peer"
   ]
  },
  {
   "cell_type": "code",
   "execution_count": 19,
   "metadata": {},
   "outputs": [],
   "source": [
    "peer_id = \"harry-finish-line\""
   ]
  },
  {
   "cell_type": "code",
   "execution_count": 20,
   "metadata": {},
   "outputs": [
    {
     "name": "stdout",
     "output_type": "stream",
     "text": [
      "harry-finish-line\n",
      "{'orgId': '8a57aa07-9cac-4166-a109-a5706866435e', 'peerId': 'harry-finish-line'}\n"
     ]
    }
   ],
   "source": [
    "modal_coordinator.register_peer(peer_id)"
   ]
  },
  {
   "cell_type": "markdown",
   "metadata": {
    "vscode": {
     "languageId": "markdown"
    }
   },
   "source": [
    "Proof\n",
    "\n",
    "v1\n",
    "\n",
    "https://gensyn-testnet.explorer.alchemy.com/tx/0x49614edd723c9a9ae11249511532fc2fb58a13fa0ca867e505191734692bb57f?tab=logs\n",
    "\n",
    "v2\n",
    "https://gensyn-testnet.explorer.alchemy.com/tx/0xc9159afb97f48b7cfb529e12539d84f19036aa0bde9b0b64b1a268d9155d9b52?tab=logs"
   ]
  },
  {
   "cell_type": "markdown",
   "metadata": {},
   "source": [
    "Submit winner"
   ]
  },
  {
   "cell_type": "code",
   "execution_count": 21,
   "metadata": {},
   "outputs": [
    {
     "name": "stdout",
     "output_type": "stream",
     "text": [
      "{'orgId': '8a57aa07-9cac-4166-a109-a5706866435e', 'roundNumber': 0, 'winners': ['harry-endgame-manual-long']}\n"
     ]
    }
   ],
   "source": [
    "modal_coordinator.submit_winners(0, [\"harry-endgame-manual-long\"])"
   ]
  },
  {
   "cell_type": "markdown",
   "metadata": {},
   "source": [
    "Proof\n",
    "\n",
    "v1\n",
    "\n",
    "https://gensyn-testnet.explorer.alchemy.com/tx/0xe0d01760abe456817e285a9bfb9517927080bdae61ecdbdd32a1b4d9e9fcb606?tab=logs\n",
    "\n",
    "v2\n",
    "\n",
    "https://gensyn-testnet.explorer.alchemy.com/tx/0x649b4aa4a1ef9bc6d3a668d4139ecb9ce2d31207c80e93b5a870d775e35b3034?tab=logs"
   ]
  },
  {
   "cell_type": "markdown",
   "metadata": {},
   "source": [
    "Clean up"
   ]
  },
  {
   "cell_type": "code",
   "execution_count": null,
   "metadata": {},
   "outputs": [],
   "source": [
    "# turn off next server first!\n",
    "! rm -r modal-login/temp-data/*.json"
   ]
  }
 ],
 "metadata": {
  "kernelspec": {
   "display_name": ".venv",
   "language": "python",
   "name": "python3"
  },
  "language_info": {
   "codemirror_mode": {
    "name": "ipython",
    "version": 3
   },
   "file_extension": ".py",
   "mimetype": "text/x-python",
   "name": "python",
   "nbconvert_exporter": "python",
   "pygments_lexer": "ipython3",
   "version": "3.13.2"
  }
 },
 "nbformat": 4,
 "nbformat_minor": 2
}
